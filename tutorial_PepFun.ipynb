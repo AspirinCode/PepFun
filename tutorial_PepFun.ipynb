{
 "cells": [
  {
   "cell_type": "markdown",
   "metadata": {},
   "source": [
    "# Tutorial PepFun"
   ]
  },
  {
   "cell_type": "markdown",
   "metadata": {},
   "source": [
    "The following are a set of exercises to run some functionalities available in PepFun, which cover a set of bioinformatics and cheminformatics protocols for peptide analysis. In addition to this tutorial, the project contains a **test.py** script where many of the package functionalities are tested with basic examples. Here we will cover some sequence- and structure-based analysis using one or many peptides at the same time. At the end we will generate some libraries based on certain patterns and restraints.\n",
    "\n",
    "* From publication \"Pepfun: bioinformatics and cheminformatics protocols for peptide-related computational analysis\"\n",
    "* Journal of Cheminformatics \n",
    "* Authors: Rodrigo Ochoa, Roman Laskowski, Pilar Cossio\n",
    "* Year: 2020"
   ]
  },
  {
   "cell_type": "markdown",
   "metadata": {},
   "source": [
    "## Requirements"
   ]
  },
  {
   "cell_type": "markdown",
   "metadata": {},
   "source": [
    "To run PepFun functionalities using Python3, it is recommended to configure a conda environment to have installed all the required dependencies. One way to create an initial virtual environment from the rdkit channel is:"
   ]
  },
  {
   "cell_type": "markdown",
   "metadata": {},
   "source": [
    "`conda create -c rdkit -n pepfun-env rdkit biopython matplotlib scipy pip pycairo nb_conda_kernels`"
   ]
  },
  {
   "cell_type": "markdown",
   "metadata": {},
   "source": [
    "After the installation, you can activate the environment using the command:"
   ]
  },
  {
   "cell_type": "markdown",
   "metadata": {},
   "source": [
    "`conda activate pepfun-env`"
   ]
  },
  {
   "cell_type": "markdown",
   "metadata": {},
   "source": [
    "After entering the virtual environment, this notebook can be called with jupyter and selecting the kernel provided by this conda instance. Then, we can install the igraph module for python3 using pip:"
   ]
  },
  {
   "cell_type": "markdown",
   "metadata": {},
   "source": [
    "`pip install python-igraph`"
   ]
  },
  {
   "cell_type": "markdown",
   "metadata": {},
   "source": [
    "***"
   ]
  },
  {
   "cell_type": "markdown",
   "metadata": {},
   "source": [
    "## 1. Sequence analysis"
   ]
  },
  {
   "cell_type": "markdown",
   "metadata": {},
   "source": [
    "For this part, we will calculate a set of properties for a set of peptides reported as binders of the MHC class II allele DRB1\\*0101, used as a benchmark system in the PepFun project. For that purpose, we will upload a list of sequences available in the tutorial:"
   ]
  },
  {
   "cell_type": "markdown",
   "metadata": {},
   "source": [
    "*First we will import the modules required for the analysis*"
   ]
  },
  {
   "cell_type": "code",
   "execution_count": 4,
   "metadata": {},
   "outputs": [],
   "source": [
    "# Modules of Pepfun\n",
    "from peptide_functions import *\n",
    "\n",
    "# Additional modules to run analysis\n",
    "import numpy as np\n",
    "import matplotlib.pyplot as plt\n",
    "from statistics import mean\n",
    "from statistics import stdev\n",
    "from scipy import stats"
   ]
  },
  {
   "cell_type": "markdown",
   "metadata": {},
   "source": [
    "*The sequences can be loaded in a list object in python for further analysis*"
   ]
  },
  {
   "cell_type": "code",
   "execution_count": 5,
   "metadata": {},
   "outputs": [],
   "source": [
    "sequences=[x.strip() for x in open(\"auxiliar/sequences_binders_50uM.txt\")]"
   ]
  },
  {
   "cell_type": "code",
   "execution_count": 6,
   "metadata": {},
   "outputs": [
    {
     "name": "stdout",
     "output_type": "stream",
     "text": [
      "There is a total of 655 sequences\n",
      "The first peptide sequence is: FWYVNHTGFNVHSLP\n"
     ]
    }
   ],
   "source": [
    "print(\"There is a total of {} sequences\".format(len(sequences)))\n",
    "print(\"The first peptide sequence is: {}\".format(sequences[0]))"
   ]
  },
  {
   "cell_type": "markdown",
   "metadata": {},
   "source": [
    "***"
   ]
  },
  {
   "cell_type": "markdown",
   "metadata": {},
   "source": [
    "**1.1 Alignment examples with pair of peptides**"
   ]
  },
  {
   "cell_type": "markdown",
   "metadata": {},
   "source": [
    "Initially we will compare two any sequences from the dataset using the functions provided in PepFun."
   ]
  },
  {
   "cell_type": "code",
   "execution_count": 7,
   "metadata": {},
   "outputs": [
    {
     "name": "stdout",
     "output_type": "stream",
     "text": [
      "Query sequence is: FWYVNHTGFNVHSLP\n",
      "Subject sequence is: KALYDLQRSAMVYSS\n"
     ]
    }
   ],
   "source": [
    "print(\"Query sequence is: {}\".format(sequences[0]))\n",
    "print(\"Subject sequence is: {}\".format(sequences[1]))"
   ]
  },
  {
   "cell_type": "markdown",
   "metadata": {},
   "source": [
    "Then we create the object and call a matrix to run the alignments"
   ]
  },
  {
   "cell_type": "code",
   "execution_count": 8,
   "metadata": {},
   "outputs": [],
   "source": [
    "# Create object\n",
    "pep=peptide_sequence(sequences[0])\n",
    "\n",
    "# Call the matrix and run alignment position by position with the matrix\n",
    "matrix=matlist.structure"
   ]
  },
  {
   "cell_type": "markdown",
   "metadata": {},
   "source": [
    "With the new object, we can call the functions and calculate the corresponding scores:"
   ]
  },
  {
   "cell_type": "code",
   "execution_count": 9,
   "metadata": {},
   "outputs": [
    {
     "name": "stdout",
     "output_type": "stream",
     "text": [
      "Alignment score by position is: -25\n",
      "The number of dismatches are: 15\n",
      "The similarity using a scoring matrix between peptides is: -0.29\n",
      "The SMILES similarity is: 0.34\n"
     ]
    }
   ],
   "source": [
    "pep.align_position_matrix(sequences[1],matrix)\n",
    "print(\"Alignment score by position is: {}\".format(pep.score_matrix))\n",
    "\n",
    "# Run basic alignment position by position\n",
    "pep.align_position_local(sequences[1])\n",
    "print(\"The number of dismatches are: {}\".format(pep.dismatch))\n",
    "\n",
    "# Run local alignment with the matrix\n",
    "similarity=pep.similarity_pair(sequences[0],sequences[1],matrix)\n",
    "print(\"The similarity using a scoring matrix between peptides is: {0:.2f}\".format(similarity))\n",
    "    \n",
    "# Compare the SMILES of the two sequences\n",
    "pep.similar_smiles(sequences[1])\n",
    "print(\"The SMILES similarity is: {0:.2f}\".format(pep.smiles_similarity))"
   ]
  },
  {
   "cell_type": "markdown",
   "metadata": {},
   "source": [
    "***"
   ]
  },
  {
   "cell_type": "markdown",
   "metadata": {},
   "source": [
    "**1.2 Calculation of properties with the whole library**"
   ]
  },
  {
   "cell_type": "markdown",
   "metadata": {},
   "source": [
    "For this part we will calculate four basic sequence properties: net charge, molecular weight, Crippen logP and Eisenberg's hydrophobicity. For that purpose, we will iterate over the sequences as follows:"
   ]
  },
  {
   "cell_type": "code",
   "execution_count": 10,
   "metadata": {},
   "outputs": [
    {
     "name": "stdout",
     "output_type": "stream",
     "text": [
      "The number of peptides with properties calculated is: 655\n"
     ]
    }
   ],
   "source": [
    "# List with the properties\n",
    "charges=[]\n",
    "weights=[]\n",
    "logps=[]\n",
    "hydro=[]\n",
    "\n",
    "# Loop over the sequences\n",
    "for seq in sequences:\n",
    "    # Create the object and run the calculations\n",
    "    pep=peptide_sequence(seq)\n",
    "    pep.compute_peptide_charges()\n",
    "    pep.calculate_properties_from_mol()\n",
    "    pep.calculate_properties_from_sequence()\n",
    "    \n",
    "    # Append the properties to the lists\n",
    "    charges.append(pep.netCharge)\n",
    "    weights.append(pep.mol_weight)\n",
    "    logps.append(pep.mol_logp)\n",
    "    hydro.append(pep.avg_hydro)\n",
    "\n",
    "print(\"The number of peptides with properties calculated is: {}\".format(len(charges)))"
   ]
  },
  {
   "cell_type": "markdown",
   "metadata": {},
   "source": [
    "The we can plot the properties as histograms using matplot functionalities. We will convert the lists to numpy arrays first:"
   ]
  },
  {
   "cell_type": "code",
   "execution_count": 11,
   "metadata": {},
   "outputs": [],
   "source": [
    "chargesData=np.array(charges).astype(np.float)\n",
    "weightsData=np.array(weights).astype(np.float)\n",
    "logpsData=np.array(logps).astype(np.float)\n",
    "hydroData=np.array(hydro).astype(np.float)"
   ]
  },
  {
   "cell_type": "markdown",
   "metadata": {},
   "source": [
    "This is the histogram for the charges:"
   ]
  },
  {
   "cell_type": "code",
   "execution_count": 12,
   "metadata": {},
   "outputs": [
    {
     "data": {
      "image/png": "[encoded data removed]",
      "text/plain": [
       "<Figure size 432x288 with 1 Axes>"
      ]
     },
     "metadata": {
      "needs_background": "light"
     },
     "output_type": "display_data"
    }
   ],
   "source": [
    "bins = np.linspace(-6,8,20)\n",
    "plt.hist(chargesData, bins, alpha=0.5, color='b', linewidth=0)\n",
    "plt.axvline(x=mean(charges), color='b', linestyle='--')\n",
    "plt.show()"
   ]
  },
  {
   "cell_type": "markdown",
   "metadata": {},
   "source": [
    "Hydrophobicity:"
   ]
  },
  {
   "cell_type": "code",
   "execution_count": 13,
   "metadata": {},
   "outputs": [
    {
     "data": {
      "image/png": "[encoded data removed]",
      "text/plain": [
       "<Figure size 432x288 with 1 Axes>"
      ]
     },
     "metadata": {
      "needs_background": "light"
     },
     "output_type": "display_data"
    }
   ],
   "source": [
    "bins = np.linspace(-10,11,20)\n",
    "plt.hist(hydroData, bins, alpha=0.5, color='r', linewidth=0)\n",
    "plt.axvline(x=mean(hydro), color='r', linestyle='--')\n",
    "plt.show()"
   ]
  },
  {
   "cell_type": "markdown",
   "metadata": {},
   "source": [
    "Molecular weight:"
   ]
  },
  {
   "cell_type": "code",
   "execution_count": 14,
   "metadata": {},
   "outputs": [
    {
     "data": {
      "image/png": "[encoded data removed]",
      "text/plain": [
       "<Figure size 432x288 with 1 Axes>"
      ]
     },
     "metadata": {
      "needs_background": "light"
     },
     "output_type": "display_data"
    }
   ],
   "source": [
    "bins = np.linspace(1200,2100,20)\n",
    "plt.hist(weightsData, bins, alpha=0.5, color='g', linewidth=0)\n",
    "plt.axvline(x=mean(weights), color='g', linestyle='--')\n",
    "plt.show()"
   ]
  },
  {
   "cell_type": "markdown",
   "metadata": {},
   "source": [
    "and Crippen logP:"
   ]
  },
  {
   "cell_type": "code",
   "execution_count": 15,
   "metadata": {},
   "outputs": [
    {
     "data": {
      "image/png": "[encoded data removed]",
      "text/plain": [
       "<Figure size 432x288 with 1 Axes>"
      ]
     },
     "metadata": {
      "needs_background": "light"
     },
     "output_type": "display_data"
    }
   ],
   "source": [
    "bins = np.linspace(-14,4,20)\n",
    "plt.hist(logpsData, bins, alpha=0.5, color='purple', linewidth=0)\n",
    "plt.axvline(x=mean(logps), color='purple', linestyle='--')\n",
    "plt.show()"
   ]
  },
  {
   "cell_type": "markdown",
   "metadata": {},
   "source": [
    "***"
   ]
  },
  {
   "cell_type": "markdown",
   "metadata": {},
   "source": [
    "## 2. Structure analysis"
   ]
  },
  {
   "cell_type": "markdown",
   "metadata": {},
   "source": [
    "For this section we will calculate a number of interactions for a protease-peptide complex used in the validation of PepFun functionalities. First we will upload the structure:"
   ]
  },
  {
   "cell_type": "code",
   "execution_count": 16,
   "metadata": {},
   "outputs": [
    {
     "name": "stdout",
     "output_type": "stream",
     "text": [
      "The peptide sequence based on the PDB file is: GDTRPRFLQQDKYECHFFNGTERVRFLHRDIYNQEEDLRFDSDVGEYRAVTELGRPDAEYWNSQKDFLEDRRAAVDTYCRHNYGVGESFTVQRRVEPKVTVYPARTQTLQHHNLLVCSVNGFYPGSIEVRWFRNSQEEKAGVVSTGLIQNGDWTFQTLVMLETVPRSGEVYTCQVEHPSVTSPLTVEWRA\n",
      "\n"
     ]
    }
   ],
   "source": [
    "pdb_file=\"auxiliar/example_structure.pdb\"\n",
    "chain=\"B\"\n",
    "pepStr=peptide_structure(pdb_file,chain)\n",
    "print(\"The peptide sequence based on the PDB file is: {}\\n\".format(pepStr.sequence))"
   ]
  },
  {
   "cell_type": "markdown",
   "metadata": {},
   "source": [
    "Based on the structural conformation of the peptide, we can calculate the secondary structure"
   ]
  },
  {
   "cell_type": "code",
   "execution_count": 17,
   "metadata": {},
   "outputs": [
    {
     "name": "stdout",
     "output_type": "stream",
     "text": [
      "The predicted secondary structure is: ------EEEEEEEEEEEETTTTEEEEEEEEEETTEEEEEEETTT-SEEESSGGGHHHHHHHHT-HHHHHHHHSHIIIIIIHHHHHHGGGTTT--B--EEEEEE-SS-SSSSSEEEEEEEEEEBSS--EEEEEESSSB--SSEEE---EE-SSS-EEEEEEEEE---TT-EEEEEEE-TT-SS-EEEEEE-\n"
     ]
    }
   ],
   "source": [
    "pepStr.get_secondary_structure()\n",
    "print(\"The predicted secondary structure is: {}\".format(pepStr.total_dssp))\n",
    "\n",
    "#The secondary structure convention in DSSP is:\n",
    "#    B - beta bridge\n",
    "#    H - alpha helix\n",
    "#    E - beta strand\n",
    "#    S - bend\n",
    "#    T - turn\n",
    "#    G - 3/10 helix"
   ]
  },
  {
   "cell_type": "markdown",
   "metadata": {},
   "source": [
    "Then we can calculate the number of contacts after establishing a contact threshold:"
   ]
  },
  {
   "cell_type": "code",
   "execution_count": 18,
   "metadata": {},
   "outputs": [
    {
     "name": "stdout",
     "output_type": "stream",
     "text": [
      "The total number of contacts is: 458\n"
     ]
    }
   ],
   "source": [
    "contact_threshold=4.0\n",
    "pepStr.get_heavy_atom_contacts(contact_threshold)\n",
    "print(\"The total number of contacts is: {}\".format(pepStr.total_contacts))"
   ]
  },
  {
   "cell_type": "markdown",
   "metadata": {},
   "source": [
    "Then we can calculate the hydrogen bonds based on DSSP:"
   ]
  },
  {
   "cell_type": "code",
   "execution_count": 19,
   "metadata": {},
   "outputs": [
    {
     "name": "stdout",
     "output_type": "stream",
     "text": [
      "These are the hydrogen bonds detected:\n",
      "G1 interacts with residue H167 from chain A\n",
      "D2 interacts with residue H167 from chain A\n",
      "R4 interacts with residue N15 from chain A\n",
      "R6 interacts with residue P81 from chain A\n",
      "R6 interacts with residue P81 from chain A\n",
      "F7 interacts with residue L14 from chain A\n",
      "F7 interacts with residue L14 from chain A\n",
      "L8 interacts with residue Y13 from chain A\n",
      "Q9 interacts with residue F12 from chain A\n",
      "Q9 interacts with residue F12 from chain A\n",
      "D11 interacts with residue A10 from chain A\n",
      "D11 interacts with residue A10 from chain A\n",
      "Y13 interacts with residue I8 from chain A\n",
      "Y13 interacts with residue I8 from chain A\n",
      "C15 interacts with residue V6 from chain A\n",
      "C15 interacts with residue V6 from chain A\n",
      "F17 interacts with residue E4 from chain A\n",
      "F17 interacts with residue E4 from chain A\n",
      "F17 interacts with residue E3 from chain A\n",
      "G20 interacts with residue E4 from chain A\n",
      "V24 interacts with residue F17 from chain B\n",
      "V24 interacts with residue F17 from chain B\n",
      "R25 interacts with residue H16 from chain B\n",
      "R25 interacts with residue H16 from chain B\n",
      "F26 interacts with residue C15 from chain B\n",
      "L27 interacts with residue E14 from chain B\n",
      "L27 interacts with residue E14 from chain B\n",
      "R29 interacts with residue K12 from chain B\n",
      "R29 interacts with residue K12 from chain B\n",
      "I31 interacts with residue Q10 from chain B\n",
      "I31 interacts with residue Q10 from chain B\n",
      "N33 interacts with residue L8 from chain B\n",
      "N33 interacts with residue P81 from chain A\n",
      "Q34 interacts with residue F112 from chain A\n",
      "E35 interacts with residue D142 from chain A\n",
      "D37 interacts with residue D30 from chain B\n",
      "L38 interacts with residue D30 from chain B\n",
      "L38 interacts with residue D30 from chain B\n",
      "F40 interacts with residue H28 from chain B\n",
      "F40 interacts with residue H28 from chain B\n",
      "S42 interacts with residue F26 from chain B\n",
      "S42 interacts with residue L27 from chain B\n",
      "D43 interacts with residue F26 from chain B\n",
      "D43 interacts with residue L27 from chain B\n",
      "Y47 interacts with residue F40 from chain B\n",
      "R48 interacts with residue R39 from chain B\n",
      "R48 interacts with residue R39 from chain B\n",
      "A49 interacts with residue L38 from chain B\n",
      "A49 interacts with residue L38 from chain B\n",
      "V50 interacts with residue D37 from chain B\n",
      "V50 interacts with residue L38 from chain B\n",
      "T51 interacts with residue D37 from chain B\n",
      "T51 interacts with residue E35 from chain B\n",
      "E52 interacts with residue D37 from chain B\n",
      "G54 interacts with residue D37 from chain B\n",
      "A58 interacts with residue Y47 from chain B\n",
      "L68 interacts with residue W61 from chain B\n",
      "T77 interacts with residue D70 from chain B\n",
      "R80 interacts with residue A74 from chain B\n",
      "R93 interacts with residue E87 from chain B\n",
      "L114 interacts with residue A104 from chain B\n",
      "V116 interacts with residue Y102 from chain B\n",
      "V116 interacts with residue Y102 from chain B\n",
      "S118 interacts with residue T100 from chain B\n",
      "S118 interacts with residue T100 from chain B\n",
      "N120 interacts with residue K98 from chain B\n",
      "N120 interacts with residue K98 from chain B\n",
      "F122 interacts with residue E96 from chain B\n",
      "Y123 interacts with residue V95 from chain B\n",
      "Y123 interacts with residue V95 from chain B\n",
      "E138 interacts with residue W131 from chain B\n",
      "E138 interacts with residue W131 from chain B\n",
      "Q149 interacts with residue D27 from chain A\n",
      "G151 interacts with residue D29 from chain A\n",
      "G151 interacts with residue D27 from chain A\n",
      "G151 interacts with residue K147 from chain A\n",
      "D152 interacts with residue G28 from chain A\n",
      "D152 interacts with residue G28 from chain A\n",
      "W153 interacts with residue D27 from chain A\n",
      "W153 interacts with residue G28 from chain A\n",
      "T154 interacts with residue Y123 from chain B\n",
      "F155 interacts with residue F122 from chain B\n",
      "F155 interacts with residue F122 from chain B\n",
      "F155 interacts with residue G121 from chain B\n",
      "Q156 interacts with residue I148 from chain B\n",
      "Q156 interacts with residue I148 from chain B\n",
      "T157 interacts with residue V119 from chain B\n",
      "T157 interacts with residue V119 from chain B\n",
      "L158 interacts with residue G146 from chain B\n",
      "L158 interacts with residue T145 from chain B\n",
      "V159 interacts with residue C117 from chain B\n",
      "V159 interacts with residue C117 from chain B\n",
      "V159 interacts with residue S144 from chain B\n",
      "M160 interacts with residue V143 from chain B\n",
      "M160 interacts with residue V143 from chain B\n",
      "L161 interacts with residue L115 from chain B\n",
      "L161 interacts with residue L115 from chain B\n",
      "L161 interacts with residue V142 from chain B\n",
      "E162 interacts with residue G141 from chain B\n",
      "E162 interacts with residue L114 from chain B\n",
      "T163 interacts with residue N113 from chain B\n",
      "T163 interacts with residue N113 from chain B\n",
      "T163 interacts with residue H111 from chain B\n",
      "V164 interacts with residue H112 from chain B\n",
      "V164 interacts with residue H112 from chain B\n",
      "V170 interacts with residue N134 from chain B\n",
      "T172 interacts with residue F132 from chain B\n",
      "T172 interacts with residue F132 from chain B\n",
      "Q174 interacts with residue R130 from chain B\n",
      "Q174 interacts with residue R130 from chain B\n",
      "E176 interacts with residue E128 from chain B\n",
      "E176 interacts with residue E128 from chain B\n",
      "H177 interacts with residue I127 from chain B\n",
      "P178 interacts with residue E96 from chain B\n",
      "P178 interacts with residue I127 from chain B\n",
      "S179 interacts with residue V95 from chain B\n",
      "S179 interacts with residue P124 from chain B\n",
      "S179 interacts with residue E96 from chain B\n",
      "S182 interacts with residue V175 from chain B\n",
      "P183 interacts with residue E176 from chain B\n",
      "L184 interacts with residue V175 from chain B\n",
      "L184 interacts with residue V175 from chain B\n",
      "T185 interacts with residue Q174 from chain B\n",
      "T185 interacts with residue Q174 from chain B\n",
      "V186 interacts with residue C173 from chain B\n",
      "V186 interacts with residue C173 from chain B\n",
      "E187 interacts with residue T172 from chain B\n",
      "E187 interacts with residue T172 from chain B\n",
      "W188 interacts with residue Y171 from chain B\n",
      "W188 interacts with residue Y171 from chain B\n",
      "R189 interacts with residue V170 from chain B\n",
      "R189 interacts with residue V170 from chain B\n",
      "R189 interacts with residue E169 from chain B\n",
      "A190 interacts with residue G168 from chain B\n",
      "A190 interacts with residue E169 from chain B\n",
      "A190 interacts with residue E169 from chain B\n",
      "The total number of hydrogen bonds are: 136\n"
     ]
    },
    {
     "ename": "FileNotFoundError",
     "evalue": "[Errno 2] No such file or directory: 'plot_hbs_IEPDTDAP.png'",
     "output_type": "error",
     "traceback": [
      "\u001b[0;31m---------------------------------------------------------------------------\u001b[0m",
      "\u001b[0;31mFileNotFoundError\u001b[0m                         Traceback (most recent call last)",
      "\u001b[0;32m<ipython-input-19-e09282b8a3af>\u001b[0m in \u001b[0;36m<module>\u001b[0;34m\u001b[0m\n\u001b[1;32m      5\u001b[0m \u001b[0mpepStr\u001b[0m\u001b[0;34m.\u001b[0m\u001b[0mplot_hydrogen_bonds\u001b[0m\u001b[0;34m(\u001b[0m\u001b[0;34m\"linear\"\u001b[0m\u001b[0;34m)\u001b[0m\u001b[0;34m\u001b[0m\u001b[0;34m\u001b[0m\u001b[0m\n\u001b[1;32m      6\u001b[0m \u001b[0;32mfrom\u001b[0m \u001b[0mIPython\u001b[0m\u001b[0;34m.\u001b[0m\u001b[0mdisplay\u001b[0m \u001b[0;32mimport\u001b[0m \u001b[0mImage\u001b[0m\u001b[0;34m\u001b[0m\u001b[0;34m\u001b[0m\u001b[0m\n\u001b[0;32m----> 7\u001b[0;31m \u001b[0mImage\u001b[0m\u001b[0;34m(\u001b[0m\u001b[0mfilename\u001b[0m\u001b[0;34m=\u001b[0m\u001b[0;34m'plot_hbs_IEPDTDAP.png'\u001b[0m\u001b[0;34m)\u001b[0m\u001b[0;34m\u001b[0m\u001b[0;34m\u001b[0m\u001b[0m\n\u001b[0m",
      "\u001b[0;32m~/anaconda3/envs/pepfun-env/lib/python3.7/site-packages/IPython/core/display.py\u001b[0m in \u001b[0;36m__init__\u001b[0;34m(self, data, url, filename, format, embed, width, height, retina, unconfined, metadata)\u001b[0m\n\u001b[1;32m   1202\u001b[0m         \u001b[0mself\u001b[0m\u001b[0;34m.\u001b[0m\u001b[0munconfined\u001b[0m \u001b[0;34m=\u001b[0m \u001b[0munconfined\u001b[0m\u001b[0;34m\u001b[0m\u001b[0;34m\u001b[0m\u001b[0m\n\u001b[1;32m   1203\u001b[0m         super(Image, self).__init__(data=data, url=url, filename=filename, \n\u001b[0;32m-> 1204\u001b[0;31m                 metadata=metadata)\n\u001b[0m\u001b[1;32m   1205\u001b[0m \u001b[0;34m\u001b[0m\u001b[0m\n\u001b[1;32m   1206\u001b[0m         \u001b[0;32mif\u001b[0m \u001b[0mself\u001b[0m\u001b[0;34m.\u001b[0m\u001b[0mwidth\u001b[0m \u001b[0;32mis\u001b[0m \u001b[0;32mNone\u001b[0m \u001b[0;32mand\u001b[0m \u001b[0mself\u001b[0m\u001b[0;34m.\u001b[0m\u001b[0mmetadata\u001b[0m\u001b[0;34m.\u001b[0m\u001b[0mget\u001b[0m\u001b[0;34m(\u001b[0m\u001b[0;34m'width'\u001b[0m\u001b[0;34m,\u001b[0m \u001b[0;34m{\u001b[0m\u001b[0;34m}\u001b[0m\u001b[0;34m)\u001b[0m\u001b[0;34m:\u001b[0m\u001b[0;34m\u001b[0m\u001b[0;34m\u001b[0m\u001b[0m\n",
      "\u001b[0;32m~/anaconda3/envs/pepfun-env/lib/python3.7/site-packages/IPython/core/display.py\u001b[0m in \u001b[0;36m__init__\u001b[0;34m(self, data, url, filename, metadata)\u001b[0m\n\u001b[1;32m    625\u001b[0m             \u001b[0mself\u001b[0m\u001b[0;34m.\u001b[0m\u001b[0mmetadata\u001b[0m \u001b[0;34m=\u001b[0m \u001b[0;34m{\u001b[0m\u001b[0;34m}\u001b[0m\u001b[0;34m\u001b[0m\u001b[0;34m\u001b[0m\u001b[0m\n\u001b[1;32m    626\u001b[0m \u001b[0;34m\u001b[0m\u001b[0m\n\u001b[0;32m--> 627\u001b[0;31m         \u001b[0mself\u001b[0m\u001b[0;34m.\u001b[0m\u001b[0mreload\u001b[0m\u001b[0;34m(\u001b[0m\u001b[0;34m)\u001b[0m\u001b[0;34m\u001b[0m\u001b[0;34m\u001b[0m\u001b[0m\n\u001b[0m\u001b[1;32m    628\u001b[0m         \u001b[0mself\u001b[0m\u001b[0;34m.\u001b[0m\u001b[0m_check_data\u001b[0m\u001b[0;34m(\u001b[0m\u001b[0;34m)\u001b[0m\u001b[0;34m\u001b[0m\u001b[0;34m\u001b[0m\u001b[0m\n\u001b[1;32m    629\u001b[0m \u001b[0;34m\u001b[0m\u001b[0m\n",
      "\u001b[0;32m~/anaconda3/envs/pepfun-env/lib/python3.7/site-packages/IPython/core/display.py\u001b[0m in \u001b[0;36mreload\u001b[0;34m(self)\u001b[0m\n\u001b[1;32m   1233\u001b[0m         \u001b[0;34m\"\"\"Reload the raw data from file or URL.\"\"\"\u001b[0m\u001b[0;34m\u001b[0m\u001b[0;34m\u001b[0m\u001b[0m\n\u001b[1;32m   1234\u001b[0m         \u001b[0;32mif\u001b[0m \u001b[0mself\u001b[0m\u001b[0;34m.\u001b[0m\u001b[0membed\u001b[0m\u001b[0;34m:\u001b[0m\u001b[0;34m\u001b[0m\u001b[0;34m\u001b[0m\u001b[0m\n\u001b[0;32m-> 1235\u001b[0;31m             \u001b[0msuper\u001b[0m\u001b[0;34m(\u001b[0m\u001b[0mImage\u001b[0m\u001b[0;34m,\u001b[0m\u001b[0mself\u001b[0m\u001b[0;34m)\u001b[0m\u001b[0;34m.\u001b[0m\u001b[0mreload\u001b[0m\u001b[0;34m(\u001b[0m\u001b[0;34m)\u001b[0m\u001b[0;34m\u001b[0m\u001b[0;34m\u001b[0m\u001b[0m\n\u001b[0m\u001b[1;32m   1236\u001b[0m             \u001b[0;32mif\u001b[0m \u001b[0mself\u001b[0m\u001b[0;34m.\u001b[0m\u001b[0mretina\u001b[0m\u001b[0;34m:\u001b[0m\u001b[0;34m\u001b[0m\u001b[0;34m\u001b[0m\u001b[0m\n\u001b[1;32m   1237\u001b[0m                 \u001b[0mself\u001b[0m\u001b[0;34m.\u001b[0m\u001b[0m_retina_shape\u001b[0m\u001b[0;34m(\u001b[0m\u001b[0;34m)\u001b[0m\u001b[0;34m\u001b[0m\u001b[0;34m\u001b[0m\u001b[0m\n",
      "\u001b[0;32m~/anaconda3/envs/pepfun-env/lib/python3.7/site-packages/IPython/core/display.py\u001b[0m in \u001b[0;36mreload\u001b[0;34m(self)\u001b[0m\n\u001b[1;32m    650\u001b[0m         \u001b[0;34m\"\"\"Reload the raw data from file or URL.\"\"\"\u001b[0m\u001b[0;34m\u001b[0m\u001b[0;34m\u001b[0m\u001b[0m\n\u001b[1;32m    651\u001b[0m         \u001b[0;32mif\u001b[0m \u001b[0mself\u001b[0m\u001b[0;34m.\u001b[0m\u001b[0mfilename\u001b[0m \u001b[0;32mis\u001b[0m \u001b[0;32mnot\u001b[0m \u001b[0;32mNone\u001b[0m\u001b[0;34m:\u001b[0m\u001b[0;34m\u001b[0m\u001b[0;34m\u001b[0m\u001b[0m\n\u001b[0;32m--> 652\u001b[0;31m             \u001b[0;32mwith\u001b[0m \u001b[0mopen\u001b[0m\u001b[0;34m(\u001b[0m\u001b[0mself\u001b[0m\u001b[0;34m.\u001b[0m\u001b[0mfilename\u001b[0m\u001b[0;34m,\u001b[0m \u001b[0mself\u001b[0m\u001b[0;34m.\u001b[0m\u001b[0m_read_flags\u001b[0m\u001b[0;34m)\u001b[0m \u001b[0;32mas\u001b[0m \u001b[0mf\u001b[0m\u001b[0;34m:\u001b[0m\u001b[0;34m\u001b[0m\u001b[0;34m\u001b[0m\u001b[0m\n\u001b[0m\u001b[1;32m    653\u001b[0m                 \u001b[0mself\u001b[0m\u001b[0;34m.\u001b[0m\u001b[0mdata\u001b[0m \u001b[0;34m=\u001b[0m \u001b[0mf\u001b[0m\u001b[0;34m.\u001b[0m\u001b[0mread\u001b[0m\u001b[0;34m(\u001b[0m\u001b[0;34m)\u001b[0m\u001b[0;34m\u001b[0m\u001b[0;34m\u001b[0m\u001b[0m\n\u001b[1;32m    654\u001b[0m         \u001b[0;32melif\u001b[0m \u001b[0mself\u001b[0m\u001b[0;34m.\u001b[0m\u001b[0murl\u001b[0m \u001b[0;32mis\u001b[0m \u001b[0;32mnot\u001b[0m \u001b[0;32mNone\u001b[0m\u001b[0;34m:\u001b[0m\u001b[0;34m\u001b[0m\u001b[0;34m\u001b[0m\u001b[0m\n",
      "\u001b[0;31mFileNotFoundError\u001b[0m: [Errno 2] No such file or directory: 'plot_hbs_IEPDTDAP.png'"
     ]
    }
   ],
   "source": [
    "pepStr.get_hydrogen_bonds()\n",
    "print(\"The total number of hydrogen bonds are: {}\".format(pepStr.number_hydrogen_bonds))\n",
    "    \n",
    "#The hydrogen bonds can be plotted in a linear or cyclic conformation using the function\n",
    "pepStr.plot_hydrogen_bonds(\"linear\")\n",
    "from IPython.display import Image\n",
    "Image(filename='plot_hbs_IEPDTDAP.png')"
   ]
  },
  {
   "cell_type": "markdown",
   "metadata": {},
   "source": [
    "Finally we can check amino acid by amino acid in the peptide what is the accesible surface area (ASA) value, as well as the specific contacts created by the residue:"
   ]
  },
  {
   "cell_type": "code",
   "execution_count": null,
   "metadata": {},
   "outputs": [],
   "source": [
    "print(\"The following are the details per amino acid in the peptide:\")\n",
    "print(\"AA\\tPos\\tASA\\tContacts\")\n",
    "for position in pepStr.positions:\n",
    "    print(\"{:s}\\t{:d}\\t{:.2f}\\t{:d}\".format(pepStr.positions[position]['aa'],position,\n",
    "          pepStr.positions[position]['asa'],pepStr.positions[position]['contacts']))"
   ]
  },
  {
   "cell_type": "markdown",
   "metadata": {},
   "source": [
    "***"
   ]
  },
  {
   "cell_type": "markdown",
   "metadata": {},
   "source": [
    "## 3. Generation of libraries"
   ]
  },
  {
   "cell_type": "markdown",
   "metadata": {},
   "source": [
    "For this part, we will generate two independent libraries. For the first case, we will create a library of 10-mer peptides with a similar distribution of the natural amino acids in all the positions of the peptide:"
   ]
  },
  {
   "cell_type": "code",
   "execution_count": null,
   "metadata": {},
   "outputs": [],
   "source": [
    "list_peptides=combinatorial_library(10,\"natural\")"
   ]
  },
  {
   "cell_type": "markdown",
   "metadata": {},
   "source": [
    "We can check what is the distribution of **Alanine** in each position of the peptide. If the distribution is uniform, the percentage should be around 5%"
   ]
  },
  {
   "cell_type": "code",
   "execution_count": null,
   "metadata": {},
   "outputs": [],
   "source": [
    "counter=frequencies_library(list_peptides)\n",
    "\n",
    "for pos in counter:\n",
    "    count_alanine=counter[pos]['A']\n",
    "    total=0\n",
    "    for aa in counter[pos]:\n",
    "        total+=counter[pos][aa]\n",
    "    perc_alanine=float(count_alanine)/float(total)*100\n",
    "    print(\"ALA% for position {:d} is: {:.2f}\".format(pos,perc_alanine))"
   ]
  },
  {
   "cell_type": "markdown",
   "metadata": {},
   "source": [
    "In the second example we will generate a library of 5-mer peptides with pattern \"XERTX\". Based on the combinations, a total of XX peptides should be generated."
   ]
  },
  {
   "cell_type": "code",
   "execution_count": null,
   "metadata": {},
   "outputs": [],
   "source": [
    "list_peptides=generate_peptide_pattern(\"XERTX\")\n",
    "print(\"The total amount of peptides in the library is {}\".format(len(list_peptides)))"
   ]
  },
  {
   "cell_type": "markdown",
   "metadata": {},
   "source": [
    "***"
   ]
  },
  {
   "cell_type": "markdown",
   "metadata": {},
   "source": [
    "## Support"
   ]
  },
  {
   "cell_type": "markdown",
   "metadata": {},
   "source": [
    "In case the protocol is useful for other research projects and require some advice, please contact us to the email: rodrigo.ochoa@udea.edu.co"
   ]
  }
 ],
 "metadata": {
  "kernelspec": {
   "display_name": "Python 3",
   "language": "python",
   "name": "python3"
  },
  "language_info": {
   "codemirror_mode": {
    "name": "ipython",
    "version": 3
   },
   "file_extension": ".py",
   "mimetype": "text/x-python",
   "name": "python",
   "nbconvert_exporter": "python",
   "pygments_lexer": "ipython3",
   "version": "3.7.6"
  }
 },
 "nbformat": 4,
 "nbformat_minor": 4
}
